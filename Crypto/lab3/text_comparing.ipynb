{
 "cells": [
  {
   "cell_type": "code",
   "execution_count": 13,
   "id": "75ee45e3-548d-4cc3-8250-e7700697224f",
   "metadata": {
    "scrolled": true
   },
   "outputs": [],
   "source": [
    "import random\n",
    "import string\n",
    "import nltk\n",
    "from nltk.corpus import wordnet"
   ]
  },
  {
   "cell_type": "code",
   "execution_count": 28,
   "id": "d69b16df-b9eb-4b91-a0f8-83d3265b0e76",
   "metadata": {},
   "outputs": [],
   "source": [
    "def generate_random_letters(filename, length):\n",
    "    random_letters_text = ''.join(random.choice(string.ascii_letters) for elem in range(length))\n",
    "    with open(filename, 'w') as file:\n",
    "        file.write(random_letters_text)\n",
    "\n",
    "def generate_random_words(filename, length):\n",
    "    words_list = [synset.lemmas()[0].name() for synset in wordnet.all_synsets()]\n",
    "    random_words_text = ''\n",
    "\n",
    "    while len(random_words_text) < length:\n",
    "        random_words_text += random.choice(words_list) + ' '\n",
    "    random_words_text = random_words_text[:length]\n",
    "\n",
    "    with open(filename, 'w') as file:\n",
    "        file.write(random_words_text)\n"
   ]
  },
  {
   "cell_type": "code",
   "execution_count": 38,
   "id": "3886b751-29b2-4419-ab97-6d8bea2f00ee",
   "metadata": {},
   "outputs": [
    {
     "name": "stdout",
     "output_type": "stream",
     "text": [
      "58323\n"
     ]
    }
   ],
   "source": [
    "with open('war_and_peace.txt', mode = 'r') as file:\n",
    "    text = file.read()\n",
    "    print(len(text))"
   ]
  },
  {
   "cell_type": "code",
   "execution_count": 39,
   "id": "2fd70230-9444-4c75-aa1b-37793a149172",
   "metadata": {},
   "outputs": [
    {
     "name": "stdout",
     "output_type": "stream",
     "text": [
      "54051\n"
     ]
    }
   ],
   "source": [
    "with open('Holms.txt', mode = 'r') as file:\n",
    "    text = file.read()\n",
    "    print(len(text))\n"
   ]
  },
  {
   "cell_type": "code",
   "execution_count": 122,
   "id": "3296b18f-c43a-44e0-ad41-40ba05ff5493",
   "metadata": {},
   "outputs": [],
   "source": [
    "def compare(filename1, filename2, lenghts):\n",
    "    results = []\n",
    "    for i in range(len(lenghts)):\n",
    "        ln = lenghts[i]\n",
    "        with open(filename1, 'r', encoding='utf-8') as first, open(filename2, 'r', encoding='utf-8') as second:\n",
    "            text1 = first.read().replace('\\n', ' ')\n",
    "            text2 = second.read().replace('\\n', ' ')\n",
    "    \n",
    "            text1 = text1[:ln]\n",
    "            text2 = text2[:ln]\n",
    "    \n",
    "            counter = 0\n",
    "            for i in range(ln):\n",
    "                if text1[i] == text2[i] and not text1[i].isspace():\n",
    "                    counter += 1\n",
    "            results.append(f\"{round(counter / ln, 4):.4f}\")\n",
    "            \n",
    "    return results\n",
    "    "
   ]
  },
  {
   "cell_type": "code",
   "execution_count": 137,
   "id": "6395936c-4da2-43d3-bb86-52c95934e4f6",
   "metadata": {},
   "outputs": [
    {
     "data": {
      "text/plain": [
       "52"
      ]
     },
     "execution_count": 137,
     "metadata": {},
     "output_type": "execute_result"
    }
   ],
   "source": [
    "len(string.ascii_letters)"
   ]
  },
  {
   "cell_type": "code",
   "execution_count": 114,
   "id": "5f321590-b13c-47a1-9f6d-fb99bc45f335",
   "metadata": {},
   "outputs": [],
   "source": [
    "lengths = [1000, 2000, 5000, 10000, 20000, 50000]\n",
    "generate_random_letters('random_letters1.txt', 50000)\n",
    "generate_random_letters('random_letters2.txt', 50000)\n",
    "generate_random_words('random_words1.txt', 50000)\n",
    "generate_random_words('random_words2.txt', 50000)"
   ]
  },
  {
   "cell_type": "code",
   "execution_count": null,
   "id": "7982e382-9d82-46c6-8237-b4dc0e42b30a",
   "metadata": {},
   "outputs": [],
   "source": []
  },
  {
   "cell_type": "code",
   "execution_count": 123,
   "id": "5ff3e3f6-3923-4b1a-ad21-593c5ebb0fcf",
   "metadata": {},
   "outputs": [],
   "source": [
    "res_books = compare('Holms.txt', 'war_and_peace.txt', lengths)\n",
    "book_and_rand_letters = compare('Holms.txt', 'random_letters1.txt', lengths)\n",
    "book_and_rand_words = compare('Holms.txt', 'random_words1.txt', lengths)\n",
    "rand_letters = compare('random_letters1.txt', 'random_letters2.txt', lengths)\n",
    "rand_words = compare('random_words1.txt', 'random_words2.txt', lengths)"
   ]
  },
  {
   "cell_type": "code",
   "execution_count": 136,
   "id": "b764cdce-e3fc-4da4-9861-ed99282c8d2b",
   "metadata": {},
   "outputs": [
    {
     "name": "stdout",
     "output_type": "stream",
     "text": [
      "| -type/len_symb- |-----1000------- |-----5000------- |-----10000------ |-----20000------ |-----50000------|\n",
      "|----------------------------------------------------------------------------------------------------------|\n",
      "| -two_books---- |-----0.0420----- |-----0.0460----- |-----0.0444----- |-----0.0428----- |-----0.0406------|\n",
      "| -book_letters- |-----0.0140----- |-----0.0120----- |-----0.0136----- |-----0.0145----- |-----0.0150------|\n",
      "| -book_woords-- |-----0.0440----- |-----0.0445----- |-----0.0416----- |-----0.0413----- |-----0.0430------|\n",
      "| -two_letters-- |-----0.0200----- |-----0.0180----- |-----0.0180----- |-----0.0167----- |-----0.0207------|\n",
      "| -two_words-=-- |-----0.0510----- |-----0.0500----- |-----0.0422----- |-----0.0466----- |-----0.0496------|\n"
     ]
    }
   ],
   "source": [
    "print(\"| -type/len_symb-\",\"|-----1000-------\",\"|-----5000-------\",\"|-----10000------\",\"|-----20000------\",\"|-----50000------|\" )\n",
    "print(\"|----------------------------------------------------------------------------------------------------------|\" )\n",
    "print(\"| -two_books----\",\n",
    "      f\"|-----{res_books[0]}-----\",\n",
    "      f\"|-----{res_books[1]}-----\",\n",
    "      f\"|-----{res_books[2]}-----\",\n",
    "      f\"|-----{res_books[3]}-----\",\n",
    "      f\"|-----{res_books[4]}------|\" )\n",
    "\n",
    "print(\"| -book_letters-\",\n",
    "      f\"|-----{book_and_rand_letters[0]}-----\",\n",
    "      f\"|-----{book_and_rand_letters[1]}-----\",\n",
    "      f\"|-----{book_and_rand_letters[2]}-----\",\n",
    "      f\"|-----{book_and_rand_letters[3]}-----\",\n",
    "      f\"|-----{book_and_rand_letters[4]}------|\" )\n",
    "\n",
    "print(\"| -book_woords--\",\n",
    "      f\"|-----{book_and_rand_words[0]}-----\",\n",
    "      f\"|-----{book_and_rand_words[1]}-----\",\n",
    "      f\"|-----{book_and_rand_words[2]}-----\",\n",
    "      f\"|-----{book_and_rand_words[3]}-----\",\n",
    "      f\"|-----{book_and_rand_words[4]}------|\" )\n",
    "\n",
    "print(\"| -two_letters--\",\n",
    "      f\"|-----{rand_letters[0]}-----\",\n",
    "      f\"|-----{rand_letters[1]}-----\",\n",
    "      f\"|-----{rand_letters[2]}-----\",\n",
    "      f\"|-----{rand_letters[3]}-----\",\n",
    "      f\"|-----{rand_letters[4]}------|\" )\n",
    "\n",
    "print(\"| -two_words-=--\",\n",
    "      f\"|-----{rand_words[0]}-----\",\n",
    "      f\"|-----{rand_words[1]}-----\",\n",
    "      f\"|-----{rand_words[2]}-----\",\n",
    "      f\"|-----{rand_words[3]}-----\",\n",
    "      f\"|-----{rand_words[4]}------|\" )\n"
   ]
  },
  {
   "cell_type": "code",
   "execution_count": null,
   "id": "5b78ce52-b7ce-4488-abce-f04e9b409305",
   "metadata": {},
   "outputs": [],
   "source": []
  },
  {
   "cell_type": "code",
   "execution_count": null,
   "id": "7585ade1-5c57-4e08-b1db-12893c7ccf82",
   "metadata": {},
   "outputs": [],
   "source": []
  },
  {
   "cell_type": "code",
   "execution_count": null,
   "id": "753ca276-2be1-451d-9e30-f2d413a221be",
   "metadata": {},
   "outputs": [],
   "source": []
  },
  {
   "cell_type": "code",
   "execution_count": null,
   "id": "333d2458-3592-4733-a9dc-b1fa57370e2f",
   "metadata": {},
   "outputs": [],
   "source": []
  }
 ],
 "metadata": {
  "kernelspec": {
   "display_name": "Python 3 (ipykernel)",
   "language": "python",
   "name": "python3"
  },
  "language_info": {
   "codemirror_mode": {
    "name": "ipython",
    "version": 3
   },
   "file_extension": ".py",
   "mimetype": "text/x-python",
   "name": "python",
   "nbconvert_exporter": "python",
   "pygments_lexer": "ipython3",
   "version": "3.8.10"
  }
 },
 "nbformat": 4,
 "nbformat_minor": 5
}
